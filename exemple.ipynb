{
 "cells": [
  {
   "cell_type": "markdown",
   "metadata": {},
   "source": [
    "# Utilisation de Celcat Extractor"
   ]
  },
  {
   "cell_type": "code",
   "execution_count": 1,
   "metadata": {},
   "outputs": [
    {
     "name": "stdout",
     "output_type": "stream",
     "text": [
      "Reconstruction des CSV\n"
     ]
    }
   ],
   "source": [
    "from celcat_extractor import *\n",
    "from ipywidgets import *\n",
    "import ipywidgets as widgets"
   ]
  },
  {
   "cell_type": "markdown",
   "metadata": {},
   "source": [
    "## Description du service d'une personne"
   ]
  },
  {
   "cell_type": "markdown",
   "metadata": {},
   "source": [
    "Saisie des noms et prénoms."
   ]
  },
  {
   "cell_type": "code",
   "execution_count": 2,
   "metadata": {
    "scrolled": false
   },
   "outputs": [
    {
     "data": {
      "application/vnd.jupyter.widget-view+json": {
       "model_id": "9d7434bb1dca4bd4a3be647308eb6593",
       "version_major": 2,
       "version_minor": 0
      },
      "text/plain": [
       "GridspecLayout(children=(Text(value='Desmontils', description='Nom:', layout=Layout(grid_area='widget001')), T…"
      ]
     },
     "metadata": {},
     "output_type": "display_data"
    },
    {
     "name": "stdout",
     "output_type": "stream",
     "text": [
      "BP Desmontils Emmanuel    \n",
      "Read saved ics  0\n",
      "Analyse de : <https://edt.univ-nantes.fr/sciences-bis/s85976.ics>\n"
     ]
    }
   ],
   "source": [
    "nom = widgets.Text(value='Desmontils',description='Nom:',disabled=False)\n",
    "prenom = widgets.Text(value='Emmanuel',description='Prénom:',disabled=False)\n",
    "gonp_btn = widgets.Button(description=\"Go!\")\n",
    "np_lbl = widgets.Textarea(layout=Layout(width='100%', height='300px'),disabled=True )\n",
    "np_date_deb = widgets.DatePicker(description='Début',disabled=False)\n",
    "np_date_fin = widgets.DatePicker(description='Fin',disabled=False)\n",
    "def goBP(btn):\n",
    "    deb, fin = np_date_deb.value, np_date_fin.value\n",
    "    if deb is None : deb = ''\n",
    "    else: deb = str(deb)\n",
    "    if fin is None : fin = ''\n",
    "    else: fin = str(fin)\n",
    "    s = doBP(cfg,nom.value,prenom.value,'','', deb,fin,personnel_dpt, tab_module)\n",
    "    np_lbl.value = s\n",
    "gonp_btn.on_click(goBP)\n",
    "\n",
    "npd = GridspecLayout(5, 4)\n",
    "npd[0,0] = nom\n",
    "npd[1,0] = prenom\n",
    "npd[2,0] = np_date_deb\n",
    "npd[3,0] = np_date_fin\n",
    "npd[4,0] = gonp_btn\n",
    "npd[:5,1:] = np_lbl\n",
    "\n",
    "display(npd)"
   ]
  },
  {
   "cell_type": "markdown",
   "metadata": {},
   "source": [
    "## Description d'un module\n",
    "Saisie du code du module"
   ]
  },
  {
   "cell_type": "code",
   "execution_count": 4,
   "metadata": {
    "scrolled": true
   },
   "outputs": [
    {
     "data": {
      "application/vnd.jupyter.widget-view+json": {
       "model_id": "63a9880c84b44862bab22ec23d804f41",
       "version_major": 2,
       "version_minor": 0
      },
      "text/plain": [
       "Text(value='X21I040', description='Module:')"
      ]
     },
     "metadata": {},
     "output_type": "display_data"
    },
    {
     "data": {
      "application/vnd.jupyter.widget-view+json": {
       "model_id": "837f60aa11624991ba54d010efc71300",
       "version_major": 2,
       "version_minor": 0
      },
      "text/plain": [
       "Button(description='Go!', style=ButtonStyle())"
      ]
     },
     "metadata": {},
     "output_type": "display_data"
    },
    {
     "data": {
      "application/vnd.jupyter.widget-view+json": {
       "model_id": "365795265e644a56b4a1802568c45f65",
       "version_major": 2,
       "version_minor": 0
      },
      "text/plain": [
       "Textarea(value='', disabled=True, layout=Layout(height='300px', width='100%'))"
      ]
     },
     "metadata": {},
     "output_type": "display_data"
    },
    {
     "name": "stdout",
     "output_type": "stream",
     "text": [
      "BM   X21I040   \n",
      "Read saved ics  0\n",
      "Analyse de : <https://edt.univ-nantes.fr/sciences-bis/m360234.ics>\n"
     ]
    }
   ],
   "source": [
    "module = widgets.Text(value='X21I040',description='Module:',disabled=False)\n",
    "gom_btn = widgets.Button(description=\"Go!\")\n",
    "m_lbl = widgets.Textarea(layout=Layout(width='100%', height='300px'),disabled=True )\n",
    "def goBM(btn):\n",
    "    s = doBM(cfg,'','',module.value,'', '', '','',personnel_dpt, tab_module)\n",
    "    m_lbl.value = s\n",
    "gom_btn.on_click(goBM)\n",
    "\n",
    "\n",
    "\n",
    "\n",
    "display(module, gom_btn,m_lbl)"
   ]
  },
  {
   "cell_type": "code",
   "execution_count": null,
   "metadata": {},
   "outputs": [],
   "source": []
  }
 ],
 "metadata": {
  "kernelspec": {
   "display_name": "Python 3",
   "language": "python",
   "name": "python3"
  },
  "language_info": {
   "codemirror_mode": {
    "name": "ipython",
    "version": 3
   },
   "file_extension": ".py",
   "mimetype": "text/x-python",
   "name": "python",
   "nbconvert_exporter": "python",
   "pygments_lexer": "ipython3",
   "version": "3.6.10"
  }
 },
 "nbformat": 4,
 "nbformat_minor": 4
}
