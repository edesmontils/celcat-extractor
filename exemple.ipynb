{
 "cells": [
  {
   "cell_type": "markdown",
   "metadata": {},
   "source": [
    "# Utilisation de Celcat Extractor"
   ]
  },
  {
   "cell_type": "code",
   "execution_count": 1,
   "metadata": {},
   "outputs": [
    {
     "name": "stdout",
     "output_type": "stream",
     "text": [
      "Reconstruction des CSV\n"
     ]
    }
   ],
   "source": [
    "from celcat_extractor import *\n",
    "from ipywidgets import *\n",
    "import ipywidgets as widgets"
   ]
  },
  {
   "cell_type": "markdown",
   "metadata": {},
   "source": [
    "## Description du service d'une personne"
   ]
  },
  {
   "cell_type": "markdown",
   "metadata": {},
   "source": [
    "Saisie des noms et prénoms."
   ]
  },
  {
   "cell_type": "code",
   "execution_count": 2,
   "metadata": {},
   "outputs": [
    {
     "data": {
      "application/vnd.jupyter.widget-view+json": {
       "model_id": "d1f0c4534fe043ea82baf8463048d2cd",
       "version_major": 2,
       "version_minor": 0
      },
      "text/plain": [
       "Text(value='Desmontils', description='Nom:')"
      ]
     },
     "metadata": {},
     "output_type": "display_data"
    },
    {
     "data": {
      "application/vnd.jupyter.widget-view+json": {
       "model_id": "bc17e5342cdf441ea5d2b651c0e91a6d",
       "version_major": 2,
       "version_minor": 0
      },
      "text/plain": [
       "Text(value='Emmanuel', description='Prénom:')"
      ]
     },
     "metadata": {},
     "output_type": "display_data"
    },
    {
     "data": {
      "application/vnd.jupyter.widget-view+json": {
       "model_id": "293cead5a5fb4deba3480bc7a9a5581e",
       "version_major": 2,
       "version_minor": 0
      },
      "text/plain": [
       "Button(description='Go!', style=ButtonStyle())"
      ]
     },
     "metadata": {},
     "output_type": "display_data"
    },
    {
     "data": {
      "application/vnd.jupyter.widget-view+json": {
       "model_id": "bb9d2c28dc744d00b502a68c7725951a",
       "version_major": 2,
       "version_minor": 0
      },
      "text/plain": [
       "Textarea(value='', disabled=True, layout=Layout(height='300px', width='100%'))"
      ]
     },
     "metadata": {},
     "output_type": "display_data"
    }
   ],
   "source": [
    "nom = widgets.Text(value='Desmontils',description='Nom:',disabled=False)\n",
    "prenom = widgets.Text(value='Emmanuel',description='Prénom:',disabled=False)\n",
    "gonp_btn = widgets.Button(description=\"Go!\")\n",
    "np_lbl = widgets.Textarea(layout=Layout(width='100%', height='300px'),disabled=True )\n",
    "def goBP(btn):\n",
    "    s = doBP(cfg,nom.value,prenom.value,'','', '','',personnel_dpt, tab_module)\n",
    "    np_lbl.value = s\n",
    "gonp_btn.on_click(goBP)\n",
    "display(nom,prenom,gonp_btn,np_lbl)"
   ]
  },
  {
   "cell_type": "markdown",
   "metadata": {},
   "source": [
    "## Description d'un module\n",
    "Saisie du code du module"
   ]
  },
  {
   "cell_type": "code",
   "execution_count": 5,
   "metadata": {},
   "outputs": [
    {
     "data": {
      "application/vnd.jupyter.widget-view+json": {
       "model_id": "480316cabf7b4ea3b093b09c50666962",
       "version_major": 2,
       "version_minor": 0
      },
      "text/plain": [
       "Text(value='X21I040', description='Module:')"
      ]
     },
     "metadata": {},
     "output_type": "display_data"
    },
    {
     "data": {
      "application/vnd.jupyter.widget-view+json": {
       "model_id": "04bd2afa02c145779612baa3931c29c2",
       "version_major": 2,
       "version_minor": 0
      },
      "text/plain": [
       "Button(description='Go!', style=ButtonStyle())"
      ]
     },
     "metadata": {},
     "output_type": "display_data"
    },
    {
     "data": {
      "application/vnd.jupyter.widget-view+json": {
       "model_id": "99839233733b47eab27a671ab7a29325",
       "version_major": 2,
       "version_minor": 0
      },
      "text/plain": [
       "Textarea(value='', disabled=True, layout=Layout(height='300px', width='100%'))"
      ]
     },
     "metadata": {},
     "output_type": "display_data"
    },
    {
     "name": "stdout",
     "output_type": "stream",
     "text": [
      "BM   X21I040   \n",
      "Read saved ics  0\n",
      "Analyse de : <https://edt.univ-nantes.fr/sciences-bis/m360234.ics>\n",
      "BM   X21I040   \n",
      "Read saved ics  0\n",
      "Analyse de : <https://edt.univ-nantes.fr/sciences-bis/m360234.ics>\n"
     ]
    }
   ],
   "source": [
    "module = widgets.Text(value='X21I040',description='Module:',disabled=False)\n",
    "gom_btn = widgets.Button(description=\"Go!\")\n",
    "m_lbl = widgets.Textarea(layout=Layout(width='100%', height='300px'),disabled=True )\n",
    "def goBM(btn):\n",
    "    s = doBM(cfg,'','',module.value,'', '', '','',personnel_dpt, tab_module)\n",
    "    m_lbl.value = s\n",
    "gom_btn.on_click(goBM)\n",
    "display(module, gom_btn,m_lbl)"
   ]
  },
  {
   "cell_type": "code",
   "execution_count": null,
   "metadata": {},
   "outputs": [],
   "source": []
  }
 ],
 "metadata": {
  "kernelspec": {
   "display_name": "Python 3",
   "language": "python",
   "name": "python3"
  },
  "language_info": {
   "codemirror_mode": {
    "name": "ipython",
    "version": 3
   },
   "file_extension": ".py",
   "mimetype": "text/x-python",
   "name": "python",
   "nbconvert_exporter": "python",
   "pygments_lexer": "ipython3",
   "version": "3.6.10"
  }
 },
 "nbformat": 4,
 "nbformat_minor": 4
}
